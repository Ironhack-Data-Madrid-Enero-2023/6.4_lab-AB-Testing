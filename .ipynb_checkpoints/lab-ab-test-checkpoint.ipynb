{
 "cells": [
  {
   "cell_type": "markdown",
   "id": "angry-pearl",
   "metadata": {
    "toc": true
   },
   "source": [
    "<h1>Table of Contents<span class=\"tocSkip\"></span></h1>\n",
    "<div class=\"toc\"><ul class=\"toc-item\"><li><span><a href=\"#AB-Testing\" data-toc-modified-id=\"AB-Testing-1\"><span class=\"toc-item-num\">1&nbsp;&nbsp;</span>AB-Testing</a></span></li></ul></div>"
   ]
  },
  {
   "cell_type": "markdown",
   "id": "c92ba6e0",
   "metadata": {},
   "source": [
    "# AB-Testing\n",
    "\n",
    "![cats](images/cats.jpeg)\n",
    "\n",
    "\n",
    "Imaginad que somos los cientificos de datos de la empresa de videojuegos Tactile Entertainment. Los desarrolladores del juego Cookie Cats pretenden introducir un cambio en el juego para aumentar la retencion de los jugadores. En cierto nivel del juego los jugadores se encuentran una puerta que les obliga a esperar o a pagar la app. Actualmente la puerta se encuentra en nivel 30 y se pretende pasar al nivel 40, para comprobar la retencion a 1 y 7 dias. Antes de realizar el cambio definitivo en el juego se raliza un test AB.\n",
    "\n",
    "Los datos estan alojados en `data/cookie_cats.csv`. Nuestro grupo de control sera la version actual `gate_30` y el grupo de tratamiento sera la version `gate_40`. Debemos realizar el test para 1 dia de retencion `retention_1` y para 7 dias `retention_7`."
   ]
  },
  {
   "cell_type": "code",
   "execution_count": 1,
   "id": "ac3b2f52",
   "metadata": {},
   "outputs": [],
   "source": [
    "# librerias\n",
    "\n",
    "import pandas as pd\n",
    "import numpy as np\n",
    "\n",
    "from statsmodels.stats.proportion import proportions_ztest, proportion_confint\n",
    "from scipy.stats import norm, sem\n",
    "\n",
    "import pylab as plt"
   ]
  },
  {
   "cell_type": "code",
   "execution_count": 4,
   "id": "7fe515c2",
   "metadata": {},
   "outputs": [
    {
     "data": {
      "text/html": [
       "<div>\n",
       "<style scoped>\n",
       "    .dataframe tbody tr th:only-of-type {\n",
       "        vertical-align: middle;\n",
       "    }\n",
       "\n",
       "    .dataframe tbody tr th {\n",
       "        vertical-align: top;\n",
       "    }\n",
       "\n",
       "    .dataframe thead th {\n",
       "        text-align: right;\n",
       "    }\n",
       "</style>\n",
       "<table border=\"1\" class=\"dataframe\">\n",
       "  <thead>\n",
       "    <tr style=\"text-align: right;\">\n",
       "      <th></th>\n",
       "      <th>userid</th>\n",
       "      <th>version</th>\n",
       "      <th>sum_gamerounds</th>\n",
       "      <th>retention_1</th>\n",
       "      <th>retention_7</th>\n",
       "    </tr>\n",
       "  </thead>\n",
       "  <tbody>\n",
       "    <tr>\n",
       "      <th>0</th>\n",
       "      <td>116</td>\n",
       "      <td>gate_30</td>\n",
       "      <td>3</td>\n",
       "      <td>False</td>\n",
       "      <td>False</td>\n",
       "    </tr>\n",
       "    <tr>\n",
       "      <th>1</th>\n",
       "      <td>337</td>\n",
       "      <td>gate_30</td>\n",
       "      <td>38</td>\n",
       "      <td>True</td>\n",
       "      <td>False</td>\n",
       "    </tr>\n",
       "    <tr>\n",
       "      <th>2</th>\n",
       "      <td>377</td>\n",
       "      <td>gate_40</td>\n",
       "      <td>165</td>\n",
       "      <td>True</td>\n",
       "      <td>False</td>\n",
       "    </tr>\n",
       "    <tr>\n",
       "      <th>3</th>\n",
       "      <td>483</td>\n",
       "      <td>gate_40</td>\n",
       "      <td>1</td>\n",
       "      <td>False</td>\n",
       "      <td>False</td>\n",
       "    </tr>\n",
       "    <tr>\n",
       "      <th>4</th>\n",
       "      <td>488</td>\n",
       "      <td>gate_40</td>\n",
       "      <td>179</td>\n",
       "      <td>True</td>\n",
       "      <td>True</td>\n",
       "    </tr>\n",
       "  </tbody>\n",
       "</table>\n",
       "</div>"
      ],
      "text/plain": [
       "   userid  version  sum_gamerounds  retention_1  retention_7\n",
       "0     116  gate_30               3        False        False\n",
       "1     337  gate_30              38         True        False\n",
       "2     377  gate_40             165         True        False\n",
       "3     483  gate_40               1        False        False\n",
       "4     488  gate_40             179         True         True"
      ]
     },
     "execution_count": 4,
     "metadata": {},
     "output_type": "execute_result"
    }
   ],
   "source": [
    "# datos\n",
    "cookie_cats = pd.read_csv(r'C:\\Users\\usuario\\Desktop\\6.4_lab-AB-Testing\\data\\cookie_cats.csv')\n",
    "\n",
    "cookie_cats.head()\n"
   ]
  },
  {
   "cell_type": "code",
   "execution_count": 24,
   "id": "f2e6147a",
   "metadata": {},
   "outputs": [
    {
     "data": {
      "text/html": [
       "<div>\n",
       "<style scoped>\n",
       "    .dataframe tbody tr th:only-of-type {\n",
       "        vertical-align: middle;\n",
       "    }\n",
       "\n",
       "    .dataframe tbody tr th {\n",
       "        vertical-align: top;\n",
       "    }\n",
       "\n",
       "    .dataframe thead th {\n",
       "        text-align: right;\n",
       "    }\n",
       "</style>\n",
       "<table border=\"1\" class=\"dataframe\">\n",
       "  <thead>\n",
       "    <tr style=\"text-align: right;\">\n",
       "      <th></th>\n",
       "      <th>userid</th>\n",
       "      <th>version</th>\n",
       "      <th>sum_gamerounds</th>\n",
       "      <th>retention_1</th>\n",
       "      <th>retention_7</th>\n",
       "    </tr>\n",
       "  </thead>\n",
       "  <tbody>\n",
       "    <tr>\n",
       "      <th>0</th>\n",
       "      <td>116</td>\n",
       "      <td>gate_30</td>\n",
       "      <td>3</td>\n",
       "      <td>False</td>\n",
       "      <td>False</td>\n",
       "    </tr>\n",
       "    <tr>\n",
       "      <th>1</th>\n",
       "      <td>337</td>\n",
       "      <td>gate_30</td>\n",
       "      <td>38</td>\n",
       "      <td>True</td>\n",
       "      <td>False</td>\n",
       "    </tr>\n",
       "    <tr>\n",
       "      <th>6</th>\n",
       "      <td>1066</td>\n",
       "      <td>gate_30</td>\n",
       "      <td>0</td>\n",
       "      <td>False</td>\n",
       "      <td>False</td>\n",
       "    </tr>\n",
       "    <tr>\n",
       "      <th>11</th>\n",
       "      <td>2101</td>\n",
       "      <td>gate_30</td>\n",
       "      <td>0</td>\n",
       "      <td>False</td>\n",
       "      <td>False</td>\n",
       "    </tr>\n",
       "    <tr>\n",
       "      <th>13</th>\n",
       "      <td>2179</td>\n",
       "      <td>gate_30</td>\n",
       "      <td>39</td>\n",
       "      <td>True</td>\n",
       "      <td>False</td>\n",
       "    </tr>\n",
       "    <tr>\n",
       "      <th>...</th>\n",
       "      <td>...</td>\n",
       "      <td>...</td>\n",
       "      <td>...</td>\n",
       "      <td>...</td>\n",
       "      <td>...</td>\n",
       "    </tr>\n",
       "    <tr>\n",
       "      <th>90179</th>\n",
       "      <td>9998576</td>\n",
       "      <td>gate_30</td>\n",
       "      <td>14</td>\n",
       "      <td>True</td>\n",
       "      <td>False</td>\n",
       "    </tr>\n",
       "    <tr>\n",
       "      <th>90180</th>\n",
       "      <td>9998623</td>\n",
       "      <td>gate_30</td>\n",
       "      <td>7</td>\n",
       "      <td>False</td>\n",
       "      <td>False</td>\n",
       "    </tr>\n",
       "    <tr>\n",
       "      <th>90182</th>\n",
       "      <td>9999178</td>\n",
       "      <td>gate_30</td>\n",
       "      <td>21</td>\n",
       "      <td>True</td>\n",
       "      <td>False</td>\n",
       "    </tr>\n",
       "    <tr>\n",
       "      <th>90183</th>\n",
       "      <td>9999349</td>\n",
       "      <td>gate_30</td>\n",
       "      <td>10</td>\n",
       "      <td>False</td>\n",
       "      <td>False</td>\n",
       "    </tr>\n",
       "    <tr>\n",
       "      <th>90186</th>\n",
       "      <td>9999710</td>\n",
       "      <td>gate_30</td>\n",
       "      <td>28</td>\n",
       "      <td>True</td>\n",
       "      <td>False</td>\n",
       "    </tr>\n",
       "  </tbody>\n",
       "</table>\n",
       "<p>44700 rows × 5 columns</p>\n",
       "</div>"
      ],
      "text/plain": [
       "        userid  version  sum_gamerounds  retention_1  retention_7\n",
       "0          116  gate_30               3        False        False\n",
       "1          337  gate_30              38         True        False\n",
       "6         1066  gate_30               0        False        False\n",
       "11        2101  gate_30               0        False        False\n",
       "13        2179  gate_30              39         True        False\n",
       "...        ...      ...             ...          ...          ...\n",
       "90179  9998576  gate_30              14         True        False\n",
       "90180  9998623  gate_30               7        False        False\n",
       "90182  9999178  gate_30              21         True        False\n",
       "90183  9999349  gate_30              10        False        False\n",
       "90186  9999710  gate_30              28         True        False\n",
       "\n",
       "[44700 rows x 5 columns]"
      ]
     },
     "execution_count": 24,
     "metadata": {},
     "output_type": "execute_result"
    }
   ],
   "source": [
    "# transformacion\n",
    "gate_30 = cookie_cats[cookie_cats['version'] == 'gate_30']\n",
    "gate_40 = cookie_cats[cookie_cats['version'] == 'gate_40']\n"
   ]
  },
  {
   "cell_type": "code",
   "execution_count": 23,
   "id": "38f422cb",
   "metadata": {},
   "outputs": [
    {
     "data": {
      "text/plain": [
       "0.4481879194630872"
      ]
     },
     "execution_count": 23,
     "metadata": {},
     "output_type": "execute_result"
    }
   ],
   "source": [
    "# muestreo\n",
    "ret_1_30 = gate_30['retention_1'].mean()\n",
    "ret_1_40 = gate_40['retention_1'].mean()\n",
    "ret_7_30 = gate_30['retention_7'].mean()\n",
    "ret_7_40 = gate_40['retention_7'].mean()\n",
    "\n",
    "\n",
    "\n",
    "\n",
    "ret_1_30"
   ]
  },
  {
   "cell_type": "code",
   "execution_count": 9,
   "id": "5b90c429",
   "metadata": {},
   "outputs": [],
   "source": [
    "# testeo para retention_1\n",
    "count = np.array([gate_30['retention_1'].sum(), gate_40['retention_1'].sum()])\n",
    "nobs = np.array([len(gate_30), len(gate_40)])\n",
    "zstat, pval = proportions_ztest(count, nobs)\n",
    "conf_int = proportion_confint(count, nobs)"
   ]
  },
  {
   "cell_type": "code",
   "execution_count": 17,
   "id": "e5da21dd",
   "metadata": {},
   "outputs": [
    {
     "name": "stdout",
     "output_type": "stream",
     "text": [
      "Retención a 1 día:\n",
      " - Tasa de retención en gate_30: 0.4482\n",
      " - Tasa de retención en gate_40: 0.4423\n",
      " - Diferencia de proporciones: -0.0082\n",
      " - Valor z: 3.1644\n",
      " - Valor p: 0.0016\n",
      " - Intervalo de confianza para la diferencia: [[0.18656312 0.1784543 ], [0.19383957 0.18554579]]\n"
     ]
    }
   ],
   "source": [
    "print('Retención a 1 día:')\n",
    "print(f' - Tasa de retención en gate_30: {ret_1_30:.4f}')\n",
    "print(f' - Tasa de retención en gate_40: {ret_1_40:.4f}')\n",
    "print(f' - Diferencia de proporciones: {count[1]/nobs[1]-count[0]/nobs[0]:.4f}')\n",
    "print(f' - Valor z: {zstat:.4f}')\n",
    "print(f' - Valor p: {pval:.4f}')\n",
    "print(f' - Intervalo de confianza para la diferencia: [{conf_int[0]}, {conf_int[1]}]')"
   ]
  },
  {
   "cell_type": "code",
   "execution_count": 10,
   "id": "a048a711",
   "metadata": {},
   "outputs": [],
   "source": [
    "# testeo para retention_7\n",
    "count = np.array([gate_30['retention_7'].sum(), gate_40['retention_7'].sum()])\n",
    "nobs = np.array([len(gate_30), len(gate_40)])\n",
    "zstat, pval = proportions_ztest(count, nobs)\n",
    "conf_int = proportion_confint(count, nobs)\n"
   ]
  },
  {
   "cell_type": "code",
   "execution_count": 13,
   "id": "9276577d",
   "metadata": {},
   "outputs": [
    {
     "name": "stdout",
     "output_type": "stream",
     "text": [
      "\n",
      "Retención a 7 días:\n",
      " - Tasa de retención en gate_30: 0.1902\n",
      " - Tasa de retención en gate_40: 0.1820\n",
      " - Diferencia de proporciones: -0.0082\n",
      " - Valor z: 3.1644\n",
      " - Valor p: 0.0016\n",
      " - Intervalo de confianza para la diferencia: [[0.18656312 0.1784543 ], [0.19383957 0.18554579]]\n"
     ]
    }
   ],
   "source": [
    "print('\\nRetención a 7 días:')\n",
    "print(f' - Tasa de retención en gate_30: {ret_7_30:.4f}')\n",
    "print(f' - Tasa de retención en gate_40: {ret_7_40:.4f}')\n",
    "print(f' - Diferencia de proporciones: {count[1]/nobs[1]-count[0]/nobs[0]:.4f}')\n",
    "print(f' - Valor z: {zstat:.4f}')\n",
    "print(f' - Valor p: {pval:.4f}')\n",
    "print(f' - Intervalo de confianza para la diferencia: [{conf_int[0]}, {conf_int[1]}]')"
   ]
  },
  {
   "cell_type": "code",
   "execution_count": null,
   "id": "cooked-magnet",
   "metadata": {},
   "outputs": [],
   "source": [
    "# conclusiones\n",
    "\n",
    "\"\"\"Los resultados indican que existe una diferencia estadísticamente significativa\n",
    "en la retención de los jugadores a 1 y 7 días entre gate_30\n",
    "y gate_40. La tasa de retención en gate_40 es ligeramente menor\n",
    "que en gate_30 en ambos casos, con una diferencia de proporciones de -0.0082 en ambas métricas.\n",
    "\n",
    "El valor p en ambos casos es menor que 0.05, \n",
    "lo que indica que la diferencia observada no se debe al azar y es estadísticamente significativa. \n",
    "Además, los intervalos de confianza para la diferencia de proporciones no incluyen el valor cero,\n",
    "lo que también sugiere que la diferencia es significativa.\n",
    "\n",
    "Por lo tanto, se puede concluir que el cambio propuesto en el \n",
    "juego puede no ser efectivo en aumentar la retención de los jugadores a 1 y 7 días \n",
    "y podría incluso reducir la retención en comparación con la versión actual. \n",
    "Será necesario realizar más pruebas y análisis para determinar la causa de esta \n",
    "disminución en la retención y encontrar soluciones alternativas para aumentar la retención \n",
    "de los jugadores en el juego.\"\"\"\n",
    "\n",
    "\n",
    "\n",
    "# Explica detalladamente las conclusiones obtenidas de. tu testeo."
   ]
  },
  {
   "cell_type": "code",
   "execution_count": 25,
   "id": "548ebe5c",
   "metadata": {},
   "outputs": [],
   "source": [
    "\n",
    "import pylab as plt\n",
    "plt.rcParams['figure.figsize']=(15, 8)\n",
    "\n",
    "from scipy.stats import bernoulli, beta\n",
    "\n",
    "\n",
    "control_data = cookie_cats[cookie_cats['version'] == 'gate_30']\n",
    "treatment_data = cookie_cats[cookie_cats['version'] == 'gate_40']\n",
    "\n",
    "\n",
    "#Verosimilitud de los datos en gate_30 para la retención a 1 día: 0.000001227\n",
    "#Verosimilitud de los datos en gate_40 para la retención a 1 día: 0.000001072\n",
    "#Verosimilitud de los datos en gate_30 para la retención a 7 días: 0.000000000000034\n",
    "#Verosimilitud de los datos en gate_40 para la retención a 7 días: 0.000000000000045"
   ]
  },
  {
   "cell_type": "code",
   "execution_count": 26,
   "id": "ccfe9c70",
   "metadata": {},
   "outputs": [],
   "source": [
    "alpha_ctrl, beta_ctrl = 1, 1\n",
    "alpha_trmnt, beta_trmnt = 1, 1\n",
    "\n",
    "\n",
    "n_sim = 10000\n",
    "n_obs = control_data.shape[0]\n",
    "\n",
    "\n"
   ]
  },
  {
   "cell_type": "code",
   "execution_count": 27,
   "id": "8efabaf3",
   "metadata": {},
   "outputs": [],
   "source": [
    "posterior_ctrl = beta(alpha_ctrl + control_data['retention_1'].sum(),\n",
    "                      beta_ctrl + n_obs - control_data['retention_1'].sum())\n",
    "\n",
    "posterior_trmnt = beta(alpha_trmnt + treatment_data['retention_1'].sum(),\n",
    "                       beta_trmnt + n_obs - treatment_data['retention_1'].sum())\n",
    "\n",
    "samples_ctrl = posterior_ctrl.rvs(n_sim)\n",
    "samples_trmnt = posterior_trmnt.rvs(n_sim)\n",
    "\n"
   ]
  },
  {
   "cell_type": "code",
   "execution_count": 28,
   "id": "7c4bc33c",
   "metadata": {},
   "outputs": [
    {
     "data": {
      "image/png": "[encoded data removed]",
      "text/plain": [
       "<Figure size 1500x800 with 1 Axes>"
      ]
     },
     "metadata": {},
     "output_type": "display_data"
    },
    {
     "name": "stdout",
     "output_type": "stream",
     "text": [
      "Intervalo de credibilidad al 95%: [-0.00446456  0.00830555]\n",
      "\n"
     ]
    }
   ],
   "source": [
    "diff_samples = samples_trmnt - samples_ctrl\n",
    "p_diff = (diff_samples > 0).mean()\n",
    "plt.hist(diff_samples, bins=50)\n",
    "plt.axvline(x=0, linestyle='--', color='black')\n",
    "plt.title(f\"Distribución de la diferencia en la retención a 1 día\\n P(Diff > 0) = {p_diff:.3f}\")\n",
    "plt.xlabel('Diferencia en la tasa de retención')\n",
    "plt.ylabel('Frecuencia')\n",
    "plt.show()\n",
    "\n",
    "\n",
    "interval = np.percentile(diff_samples, [2.5, 97.5])\n",
    "print(f\"Intervalo de credibilidad al 95%: {interval}\\n\")\n",
    "\n"
   ]
  },
  {
   "cell_type": "code",
   "execution_count": 29,
   "id": "96d4a310",
   "metadata": {},
   "outputs": [
    {
     "data": {
      "image/png": "[encoded data removed]",
      "text/plain": [
       "<Figure size 1500x800 with 1 Axes>"
      ]
     },
     "metadata": {},
     "output_type": "display_data"
    },
    {
     "name": "stdout",
     "output_type": "stream",
     "text": [
      "Intervalo de credibilidad al 95%: [-0.01003247  0.00013156]\n"
     ]
    }
   ],
   "source": [
    "posterior_ctrl = beta(alpha_ctrl + control_data['retention_7'].sum(),\n",
    "                      beta_ctrl + n_obs - control_data['retention_7'].sum())\n",
    "\n",
    "posterior_trmnt = beta(alpha_trmnt + treatment_data['retention_7'].sum(),\n",
    "                       beta_trmnt + n_obs - treatment_data['retention_7'].sum())\n",
    "\n",
    "samples_ctrl = posterior_ctrl.rvs(n_sim)\n",
    "samples_trmnt = posterior_trmnt.rvs(n_sim)\n",
    "\n",
    "diff_samples = samples_trmnt - samples_ctrl\n",
    "p_diff = (diff_samples > 0).mean()\n",
    "plt.hist(diff_samples, bins=50)\n",
    "plt.axvline(x=0, linestyle='--', color='black')\n",
    "plt.title(f\"Distribución de la diferencia en la retención a 7 días\\n P(Diff > 0) = {p_diff:.3f}\")\n",
    "plt.xlabel('Diferencia en la tasa de retención')\n",
    "plt.ylabel('Frecuencia')\n",
    "plt.show()\n",
    "\n",
    "interval = np.percentile(diff_samples, [2.5, 97.5])\n",
    "print(f\"Intervalo de credibilidad al 95%: {interval}\")"
   ]
  },
  {
   "cell_type": "code",
   "execution_count": 30,
   "id": "9bbc2e4b",
   "metadata": {},
   "outputs": [
    {
     "data": {
      "text/plain": [
       "' En el AB testing bayesiano, utilizamos intervalos de credibilidad en lugar de intervalos de confianza. \\nEn este caso, para la retención a 1 día, el intervalo de credibilidad al 95% está entre -0.00446456 y 0.00830555, \\nlo que significa que existe una alta probabilidad (95%) de que la verdadera diferencia entre las \\ntasas de retención en las dos versiones del juego esté dentro de ese rango. \\nComo el intervalo incluye el valor cero, no podemos concluir con certeza que una versión sea mejor que la otra.\\n\\n\\nPara la retención a 7 días, el intervalo de credibilidad al 95% está entre -0.01003247 y 0.00013156, \\nlo que indica que existe una alta probabilidad (95%) de que la verdadera diferencia entre las tasas de retención\\nen las dos versiones del juego esté dentro de ese rango. Al igual que en el caso anterior, \\ncomo el intervalo incluye el valor cero, no podemos concluir con certeza que una versión sea mejor que la otra.\\n\\nEn conclusión, en ambos casos los intervalos de credibilidad son bastante amplios y no\\nnos permiten afirmar con certeza que el cambio en el nivel de la puerta tenga un efecto significativo \\nen la retención de los jugadores. Se necesitan más datos o un análisis más detallado para tomar una \\ndecisión definitiva.           '"
      ]
     },
     "execution_count": 30,
     "metadata": {},
     "output_type": "execute_result"
    }
   ],
   "source": [
    "\"\"\" En el AB testing bayesiano, utilizamos intervalos de credibilidad en lugar de intervalos de confianza. \n",
    "En este caso, para la retención a 1 día, el intervalo de credibilidad al 95% está entre -0.00446456 y 0.00830555, \n",
    "lo que significa que existe una alta probabilidad (95%) de que la verdadera diferencia entre las \n",
    "tasas de retención en las dos versiones del juego esté dentro de ese rango. \n",
    "Como el intervalo incluye el valor cero, no podemos concluir con certeza que una versión sea mejor que la otra.\n",
    "\n",
    "\n",
    "Para la retención a 7 días, el intervalo de credibilidad al 95% está entre -0.01003247 y 0.00013156, \n",
    "lo que indica que existe una alta probabilidad (95%) de que la verdadera diferencia entre las tasas de retención\n",
    "en las dos versiones del juego esté dentro de ese rango. Al igual que en el caso anterior, \n",
    "como el intervalo incluye el valor cero, no podemos concluir con certeza que una versión sea mejor que la otra.\n",
    "\n",
    "En conclusión, en ambos casos los intervalos de credibilidad son bastante amplios y no\n",
    "nos permiten afirmar con certeza que el cambio en el nivel de la puerta tenga un efecto significativo \n",
    "en la retención de los jugadores. Se necesitan más datos o un análisis más detallado para tomar una \n",
    "decisión definitiva. \"\"\""
   ]
  },
  {
   "cell_type": "code",
   "execution_count": null,
   "id": "02077e34",
   "metadata": {},
   "outputs": [],
   "source": []
  }
 ],
 "metadata": {
  "finalized": {
   "timestamp": 1642857010293,
   "trusted": true
  },
  "kernelspec": {
   "display_name": "Python 3 (ipykernel)",
   "language": "python",
   "name": "python3"
  },
  "language_info": {
   "codemirror_mode": {
    "name": "ipython",
    "version": 3
   },
   "file_extension": ".py",
   "mimetype": "text/x-python",
   "name": "python",
   "nbconvert_exporter": "python",
   "pygments_lexer": "ipython3",
   "version": "3.9.13"
  },
  "toc": {
   "base_numbering": 1,
   "nav_menu": {},
   "number_sections": true,
   "sideBar": true,
   "skip_h1_title": false,
   "title_cell": "Table of Contents",
   "title_sidebar": "Contents",
   "toc_cell": true,
   "toc_position": {},
   "toc_section_display": true,
   "toc_window_display": false
  },
  "varInspector": {
   "cols": {
    "lenName": 16,
    "lenType": 16,
    "lenVar": 40
   },
   "kernels_config": {
    "python": {
     "delete_cmd_postfix": "",
     "delete_cmd_prefix": "del ",
     "library": "var_list.py",
     "varRefreshCmd": "print(var_dic_list())"
    },
    "r": {
     "delete_cmd_postfix": ") ",
     "delete_cmd_prefix": "rm(",
     "library": "var_list.r",
     "varRefreshCmd": "cat(var_dic_list()) "
    }
   },
   "types_to_exclude": [
    "module",
    "function",
    "builtin_function_or_method",
    "instance",
    "_Feature"
   ],
   "window_display": false
  }
 },
 "nbformat": 4,
 "nbformat_minor": 5
}
