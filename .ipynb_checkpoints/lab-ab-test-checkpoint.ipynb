{
 "cells": [
  {
   "cell_type": "markdown",
   "id": "angry-pearl",
   "metadata": {
    "toc": true
   },
   "source": [
    "<h1>Table of Contents<span class=\"tocSkip\"></span></h1>\n",
    "<div class=\"toc\"><ul class=\"toc-item\"><li><span><a href=\"#AB-Testing\" data-toc-modified-id=\"AB-Testing-1\"><span class=\"toc-item-num\">1&nbsp;&nbsp;</span>AB-Testing</a></span></li></ul></div>"
   ]
  },
  {
   "cell_type": "markdown",
   "id": "c92ba6e0",
   "metadata": {},
   "source": [
    "# AB-Testing\n",
    "\n",
    "![cats](images/cats.jpeg)\n",
    "\n",
    "\n",
    "Imaginad que somos los cientificos de datos de la empresa de videojuegos Tactile Entertainment. Los desarrolladores del juego Cookie Cats pretenden introducir un cambio en el juego para aumentar la retencion de los jugadores. En cierto nivel del juego los jugadores se encuentran una puerta que les obliga a esperar o a pagar la app. Actualmente la puerta se encuentra en nivel 30 y se pretende pasar al nivel 40, para comprobar la retencion a 1 y 7 dias. Antes de realizar el cambio definitivo en el juego se raliza un test AB.\n",
    "\n",
    "Los datos estan alojados en `data/cookie_cats.csv`. Nuestro grupo de control sera la version actual `gate_30` y el grupo de tratamiento sera la version `gate_40`. Debemos realizar el test para 1 dia de retencion `retention_1` y para 7 dias `retention_7`."
   ]
  },
  {
   "cell_type": "code",
   "execution_count": 1,
   "id": "ac3b2f52",
   "metadata": {},
   "outputs": [],
   "source": [
    "# librerias\n",
    "\n",
    "import pandas as pd\n",
    "import numpy as np\n",
    "\n",
    "from statsmodels.stats.proportion import proportions_ztest, proportion_confint\n",
    "from scipy.stats import norm, sem, beta\n",
    "\n",
    "import pylab as plt"
   ]
  },
  {
   "cell_type": "code",
   "execution_count": 2,
   "id": "7fe515c2",
   "metadata": {},
   "outputs": [],
   "source": [
    "# datos\n",
    "df = pd.read_csv('data/cookie_cats.csv')"
   ]
  },
  {
   "cell_type": "code",
   "execution_count": 3,
   "id": "f2e6147a",
   "metadata": {},
   "outputs": [
    {
     "data": {
      "text/html": [
       "<div>\n",
       "<style scoped>\n",
       "    .dataframe tbody tr th:only-of-type {\n",
       "        vertical-align: middle;\n",
       "    }\n",
       "\n",
       "    .dataframe tbody tr th {\n",
       "        vertical-align: top;\n",
       "    }\n",
       "\n",
       "    .dataframe thead th {\n",
       "        text-align: right;\n",
       "    }\n",
       "</style>\n",
       "<table border=\"1\" class=\"dataframe\">\n",
       "  <thead>\n",
       "    <tr style=\"text-align: right;\">\n",
       "      <th></th>\n",
       "      <th>userid</th>\n",
       "      <th>version</th>\n",
       "      <th>sum_gamerounds</th>\n",
       "      <th>retention_1</th>\n",
       "      <th>retention_7</th>\n",
       "    </tr>\n",
       "  </thead>\n",
       "  <tbody>\n",
       "    <tr>\n",
       "      <th>0</th>\n",
       "      <td>116</td>\n",
       "      <td>gate_30</td>\n",
       "      <td>3</td>\n",
       "      <td>False</td>\n",
       "      <td>False</td>\n",
       "    </tr>\n",
       "    <tr>\n",
       "      <th>1</th>\n",
       "      <td>337</td>\n",
       "      <td>gate_30</td>\n",
       "      <td>38</td>\n",
       "      <td>True</td>\n",
       "      <td>False</td>\n",
       "    </tr>\n",
       "    <tr>\n",
       "      <th>2</th>\n",
       "      <td>377</td>\n",
       "      <td>gate_40</td>\n",
       "      <td>165</td>\n",
       "      <td>True</td>\n",
       "      <td>False</td>\n",
       "    </tr>\n",
       "    <tr>\n",
       "      <th>3</th>\n",
       "      <td>483</td>\n",
       "      <td>gate_40</td>\n",
       "      <td>1</td>\n",
       "      <td>False</td>\n",
       "      <td>False</td>\n",
       "    </tr>\n",
       "    <tr>\n",
       "      <th>4</th>\n",
       "      <td>488</td>\n",
       "      <td>gate_40</td>\n",
       "      <td>179</td>\n",
       "      <td>True</td>\n",
       "      <td>True</td>\n",
       "    </tr>\n",
       "  </tbody>\n",
       "</table>\n",
       "</div>"
      ],
      "text/plain": [
       "   userid  version  sum_gamerounds  retention_1  retention_7\n",
       "0     116  gate_30               3        False        False\n",
       "1     337  gate_30              38         True        False\n",
       "2     377  gate_40             165         True        False\n",
       "3     483  gate_40               1        False        False\n",
       "4     488  gate_40             179         True         True"
      ]
     },
     "execution_count": 3,
     "metadata": {},
     "output_type": "execute_result"
    }
   ],
   "source": [
    "# transformacion\n",
    "df.head()"
   ]
  },
  {
   "cell_type": "code",
   "execution_count": 4,
   "id": "b5c81d58",
   "metadata": {},
   "outputs": [
    {
     "name": "stdout",
     "output_type": "stream",
     "text": [
      "<class 'pandas.core.frame.DataFrame'>\n",
      "RangeIndex: 90189 entries, 0 to 90188\n",
      "Data columns (total 5 columns):\n",
      " #   Column          Non-Null Count  Dtype \n",
      "---  ------          --------------  ----- \n",
      " 0   userid          90189 non-null  int64 \n",
      " 1   version         90189 non-null  object\n",
      " 2   sum_gamerounds  90189 non-null  int64 \n",
      " 3   retention_1     90189 non-null  bool  \n",
      " 4   retention_7     90189 non-null  bool  \n",
      "dtypes: bool(2), int64(2), object(1)\n",
      "memory usage: 2.2+ MB\n"
     ]
    }
   ],
   "source": [
    "df.info()"
   ]
  },
  {
   "cell_type": "code",
   "execution_count": 5,
   "id": "a7f42fea",
   "metadata": {},
   "outputs": [
    {
     "data": {
      "text/plain": [
       "(gate_40    45489\n",
       " gate_30    44700\n",
       " Name: version, dtype: int64,\n",
       " False    50036\n",
       " True     40153\n",
       " Name: retention_1, dtype: int64,\n",
       " False    73408\n",
       " True     16781\n",
       " Name: retention_7, dtype: int64)"
      ]
     },
     "execution_count": 5,
     "metadata": {},
     "output_type": "execute_result"
    }
   ],
   "source": [
    "df.version.value_counts(), df.retention_1.value_counts(), df.retention_7.value_counts()"
   ]
  },
  {
   "cell_type": "code",
   "execution_count": 6,
   "id": "4125019d",
   "metadata": {},
   "outputs": [
    {
     "data": {
      "text/plain": [
       "True"
      ]
     },
     "execution_count": 6,
     "metadata": {},
     "output_type": "execute_result"
    }
   ],
   "source": [
    "len(df.userid.unique()) == len(df)"
   ]
  },
  {
   "cell_type": "code",
   "execution_count": 7,
   "id": "9dfdd843",
   "metadata": {},
   "outputs": [],
   "source": [
    "# no se requiere transformación"
   ]
  },
  {
   "cell_type": "code",
   "execution_count": 8,
   "id": "38f422cb",
   "metadata": {},
   "outputs": [],
   "source": [
    "# muestreo\n",
    "# Usamos la población al completo, por lo que no se requiere hacer un muestreo"
   ]
  },
  {
   "cell_type": "code",
   "execution_count": 9,
   "id": "5b90c429",
   "metadata": {},
   "outputs": [],
   "source": [
    "# testeo para retention_1\n",
    "\n",
    "g30_res = df.retention_1.loc[df.version=='gate_30']\n",
    "g40_res = df.retention_1.loc[df.version=='gate_40']\n",
    "\n",
    "observaciones=[44700, 45489]  \n",
    "    \n",
    "conversiones=[g30_res.sum(), g40_res.sum()]\n",
    "\n",
    "z_score, p_value = proportions_ztest(conversiones, nobs=observaciones)\n",
    "\n",
    "(g30_a, g40_a), (g30_b, g40_b) = proportion_confint(conversiones, \n",
    "                                                    nobs=observaciones,\n",
    "                                                    alpha=0.05)"
   ]
  },
  {
   "cell_type": "code",
   "execution_count": 10,
   "id": "f851f093",
   "metadata": {},
   "outputs": [
    {
     "name": "stdout",
     "output_type": "stream",
     "text": [
      "z-score: 1.78\n",
      "p-valor: 0.074\n",
      "Intervalo para un nivel de confianza del 95% para g30: [0.444, 0.453]\n",
      "Intervalo para un nivel de confianza del 95% para g40: [0.438, 0.447]\n"
     ]
    }
   ],
   "source": [
    "print(f'z-score: {z_score:.2f}')\n",
    "\n",
    "print(f'p-valor: {p_value:.3f}')\n",
    "\n",
    "print(f'Intervalo para un nivel de confianza del 95% para g30: [{g30_a:.3f}, {g30_b:.3f}]')\n",
    "\n",
    "print(f'Intervalo para un nivel de confianza del 95% para g40: [{g40_a:.3f}, {g40_b:.3f}]')"
   ]
  },
  {
   "cell_type": "code",
   "execution_count": 11,
   "id": "a048a711",
   "metadata": {},
   "outputs": [],
   "source": [
    "# testeo para retention_7\n",
    "\n",
    "g30_res = df.retention_7.loc[df.version=='gate_30']\n",
    "g40_res = df.retention_7.loc[df.version=='gate_40']\n",
    "\n",
    "observaciones=[44700, 45489]  \n",
    "    \n",
    "conversiones=[g30_res.sum(), g40_res.sum()]\n",
    "\n",
    "z_score, p_value = proportions_ztest(conversiones, nobs=observaciones)\n",
    "\n",
    "(g30_a, g40_a), (g30_b, g40_b) = proportion_confint(conversiones, \n",
    "                                                    nobs=observaciones,\n",
    "                                                    alpha=0.05)"
   ]
  },
  {
   "cell_type": "code",
   "execution_count": 12,
   "id": "82f5b06e",
   "metadata": {},
   "outputs": [
    {
     "name": "stdout",
     "output_type": "stream",
     "text": [
      "z-score: 3.16\n",
      "p-valor: 0.002\n",
      "Intervalo para un nivel de confianza del 95% para g30: [0.187, 0.194]\n",
      "Intervalo para un nivel de confianza del 95% para g40: [0.178, 0.186]\n"
     ]
    }
   ],
   "source": [
    "print(f'z-score: {z_score:.2f}')\n",
    "\n",
    "print(f'p-valor: {p_value:.3f}')\n",
    "\n",
    "print(f'Intervalo para un nivel de confianza del 95% para g30: [{g30_a:.3f}, {g30_b:.3f}]')\n",
    "\n",
    "print(f'Intervalo para un nivel de confianza del 95% para g40: [{g40_a:.3f}, {g40_b:.3f}]')"
   ]
  },
  {
   "cell_type": "code",
   "execution_count": 13,
   "id": "cooked-magnet",
   "metadata": {},
   "outputs": [
    {
     "data": {
      "text/plain": [
       "'\\nLa diferencia entre gate 30 y gate 40 no es significativa en 1 día pero si en 7 días, lo que quiere decir que\\nsolo hay diferencia entre gate 30 y 40 para los jugadores que han jugado tras 7 días de comenzar el juego\\n'"
      ]
     },
     "execution_count": 13,
     "metadata": {},
     "output_type": "execute_result"
    }
   ],
   "source": [
    "# conclusiones\n",
    "# Explica detalladamente las conclusiones obtenidas de. tu testeo.\n",
    "\n",
    "'''\n",
    "La diferencia entre gate 30 y gate 40 no es significativa en 1 día pero si en 7 días, lo que quiere decir que\n",
    "solo hay diferencia entre gate 30 y 40 para los jugadores que han jugado tras 7 días de comenzar el juego\n",
    "'''"
   ]
  },
  {
   "cell_type": "markdown",
   "id": "9c4f1fab",
   "metadata": {},
   "source": [
    "# Bayes 1 día"
   ]
  },
  {
   "cell_type": "code",
   "execution_count": 14,
   "id": "b566aa92",
   "metadata": {},
   "outputs": [],
   "source": [
    "from bayes import *"
   ]
  },
  {
   "cell_type": "code",
   "execution_count": 15,
   "id": "229c3884",
   "metadata": {},
   "outputs": [
    {
     "name": "stdout",
     "output_type": "stream",
     "text": [
      "Tasas 0.4481879194630872 0.44228274967574577\n"
     ]
    }
   ],
   "source": [
    "g30_res = df.retention_1.loc[df.version=='gate_30']\n",
    "g40_res = df.retention_1.loc[df.version=='gate_40']\n",
    "\n",
    "imps_ctrl, convs_ctrl= 44700, g30_res.sum()\n",
    "imps_test, convs_test= 45489, g40_res.sum()\n",
    "\n",
    "CR_ctrl=convs_ctrl/imps_ctrl\n",
    "CR_test=convs_test/imps_test\n",
    "\n",
    "print ('Tasas', CR_ctrl, CR_test)"
   ]
  },
  {
   "cell_type": "code",
   "execution_count": 16,
   "id": "e5315348",
   "metadata": {},
   "outputs": [],
   "source": [
    "# se crean funciones beta\n",
    "# aprioris\n",
    "\n",
    "a_C, b_C = convs_ctrl+1, imps_ctrl-convs_ctrl+1\n",
    "a_T, b_T = convs_test+1, imps_test-convs_test+1\n",
    "\n",
    "beta_C=beta(a_C, b_C)  # control\n",
    "beta_T=beta(a_T, b_T)  # test"
   ]
  },
  {
   "cell_type": "code",
   "execution_count": 17,
   "id": "155d07cf",
   "metadata": {},
   "outputs": [],
   "source": [
    "# diferencia normalizada de las medias de test y control\n",
    "\n",
    "salto=(beta_T.mean()-beta_C.mean())/beta_C.mean()"
   ]
  },
  {
   "cell_type": "code",
   "execution_count": 18,
   "id": "933dcbb7",
   "metadata": {},
   "outputs": [
    {
     "data": {
      "text/plain": [
       "0.037206025180329845"
      ]
     },
     "execution_count": 18,
     "metadata": {},
     "output_type": "execute_result"
    }
   ],
   "source": [
    "prob=calc_prob(beta_T, beta_C) \n",
    "\n",
    "prob"
   ]
  },
  {
   "cell_type": "code",
   "execution_count": 19,
   "id": "006fe979",
   "metadata": {
    "scrolled": true
   },
   "outputs": [
    {
     "name": "stdout",
     "output_type": "stream",
     "text": [
      "El test aumenta la tasa de conversion en un -1.32%,\n",
      "con una probabilidad del 96.28%\n"
     ]
    }
   ],
   "source": [
    "print (\n",
    "'''El test aumenta la tasa de conversion en un {:2.2f}%,\n",
    "con una probabilidad del {:2.2f}%'''\n",
    "    .format(salto*100, (1 - prob)*100)\n",
    ")"
   ]
  },
  {
   "cell_type": "code",
   "execution_count": 20,
   "id": "a9c79d0a",
   "metadata": {
    "scrolled": false
   },
   "outputs": [
    {
     "name": "stdout",
     "output_type": "stream",
     "text": [
      "0.4481879194630872 0.44228274967574577\n"
     ]
    },
    {
     "data": {
      "image/png": "[encoded data removed]",
      "text/plain": [
       "<Figure size 1200x600 with 1 Axes>"
      ]
     },
     "metadata": {},
     "output_type": "display_data"
    }
   ],
   "source": [
    "print (CR_ctrl, CR_test)\n",
    "plt.figure(figsize=(12,6))\n",
    "plot([beta_C, beta_T], ['Control', 'Test'], lsup=0.5, linf=0.4);"
   ]
  },
  {
   "cell_type": "markdown",
   "id": "2445494b",
   "metadata": {},
   "source": [
    "# Bayes 7 días"
   ]
  },
  {
   "cell_type": "code",
   "execution_count": 21,
   "id": "5006385b",
   "metadata": {},
   "outputs": [
    {
     "name": "stdout",
     "output_type": "stream",
     "text": [
      "Tasas 0.19020134228187918 0.18200004396667327\n"
     ]
    }
   ],
   "source": [
    "g30_res = df.retention_7.loc[df.version=='gate_30']\n",
    "g40_res = df.retention_7.loc[df.version=='gate_40']\n",
    "\n",
    "imps_ctrl, convs_ctrl= 44700, g30_res.sum()\n",
    "imps_test, convs_test= 45489, g40_res.sum()\n",
    "\n",
    "CR_ctrl=convs_ctrl/imps_ctrl\n",
    "CR_test=convs_test/imps_test\n",
    "\n",
    "print ('Tasas', CR_ctrl, CR_test)"
   ]
  },
  {
   "cell_type": "code",
   "execution_count": 22,
   "id": "9a4ad243",
   "metadata": {},
   "outputs": [],
   "source": [
    "# se crean funciones beta\n",
    "# aprioris\n",
    "\n",
    "a_C, b_C = convs_ctrl+1, imps_ctrl-convs_ctrl+1\n",
    "a_T, b_T = convs_test+1, imps_test-convs_test+1\n",
    "\n",
    "beta_C=beta(a_C, b_C)  # control\n",
    "beta_T=beta(a_T, b_T)  # test"
   ]
  },
  {
   "cell_type": "code",
   "execution_count": 23,
   "id": "0668435c",
   "metadata": {},
   "outputs": [],
   "source": [
    "# diferencia normalizada de las medias de test y control\n",
    "\n",
    "salto=(beta_T.mean()-beta_C.mean())/beta_C.mean()"
   ]
  },
  {
   "cell_type": "code",
   "execution_count": 24,
   "id": "c4b329ae",
   "metadata": {
    "scrolled": true
   },
   "outputs": [
    {
     "data": {
      "text/plain": [
       "0.0007773386645759051"
      ]
     },
     "execution_count": 24,
     "metadata": {},
     "output_type": "execute_result"
    }
   ],
   "source": [
    "prob=calc_prob(beta_T, beta_C) \n",
    "\n",
    "prob"
   ]
  },
  {
   "cell_type": "code",
   "execution_count": 25,
   "id": "57612126",
   "metadata": {
    "scrolled": true
   },
   "outputs": [
    {
     "name": "stdout",
     "output_type": "stream",
     "text": [
      "El test aumenta la tasa de conversion en un -4.31%,\n",
      "con una probabilidad del 99.92%\n"
     ]
    }
   ],
   "source": [
    "print (\n",
    "'''El test aumenta la tasa de conversion en un {:2.2f}%,\n",
    "con una probabilidad del {:2.2f}%'''\n",
    "    .format(salto*100, (1-prob)*100)\n",
    ")"
   ]
  },
  {
   "cell_type": "code",
   "execution_count": 26,
   "id": "98f28dd3",
   "metadata": {
    "scrolled": false
   },
   "outputs": [
    {
     "name": "stdout",
     "output_type": "stream",
     "text": [
      "0.19020134228187918 0.18200004396667327\n"
     ]
    },
    {
     "data": {
      "image/png": "[encoded data removed]",
      "text/plain": [
       "<Figure size 1200x600 with 1 Axes>"
      ]
     },
     "metadata": {},
     "output_type": "display_data"
    }
   ],
   "source": [
    "print (CR_ctrl, CR_test)\n",
    "plt.figure(figsize=(12,6))\n",
    "plot([beta_C, beta_T], ['Control', 'Test'], lsup=0.15, linf=0.25);"
   ]
  }
 ],
 "metadata": {
  "finalized": {
   "timestamp": 1642857010293,
   "trusted": true
  },
  "kernelspec": {
   "display_name": "Python 3 (ipykernel)",
   "language": "python",
   "name": "python3"
  },
  "language_info": {
   "codemirror_mode": {
    "name": "ipython",
    "version": 3
   },
   "file_extension": ".py",
   "mimetype": "text/x-python",
   "name": "python",
   "nbconvert_exporter": "python",
   "pygments_lexer": "ipython3",
   "version": "3.9.13"
  },
  "toc": {
   "base_numbering": 1,
   "nav_menu": {},
   "number_sections": true,
   "sideBar": true,
   "skip_h1_title": false,
   "title_cell": "Table of Contents",
   "title_sidebar": "Contents",
   "toc_cell": true,
   "toc_position": {},
   "toc_section_display": true,
   "toc_window_display": false
  },
  "varInspector": {
   "cols": {
    "lenName": 16,
    "lenType": 16,
    "lenVar": 40
   },
   "kernels_config": {
    "python": {
     "delete_cmd_postfix": "",
     "delete_cmd_prefix": "del ",
     "library": "var_list.py",
     "varRefreshCmd": "print(var_dic_list())"
    },
    "r": {
     "delete_cmd_postfix": ") ",
     "delete_cmd_prefix": "rm(",
     "library": "var_list.r",
     "varRefreshCmd": "cat(var_dic_list()) "
    }
   },
   "types_to_exclude": [
    "module",
    "function",
    "builtin_function_or_method",
    "instance",
    "_Feature"
   ],
   "window_display": false
  }
 },
 "nbformat": 4,
 "nbformat_minor": 5
}
