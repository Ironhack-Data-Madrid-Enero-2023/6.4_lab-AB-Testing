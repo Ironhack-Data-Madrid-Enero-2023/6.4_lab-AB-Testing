{
 "cells": [
  {
   "cell_type": "markdown",
   "id": "angry-pearl",
   "metadata": {
    "toc": true
   },
   "source": [
    "<h1>Table of Contents<span class=\"tocSkip\"></span></h1>\n",
    "<div class=\"toc\"><ul class=\"toc-item\"><li><span><a href=\"#AB-Testing\" data-toc-modified-id=\"AB-Testing-1\"><span class=\"toc-item-num\">1&nbsp;&nbsp;</span>AB-Testing</a></span></li></ul></div>"
   ]
  },
  {
   "cell_type": "markdown",
   "id": "c92ba6e0",
   "metadata": {},
   "source": [
    "# AB-Testing\n",
    "\n",
    "![cats](images/cats.jpeg)\n",
    "\n",
    "\n",
    "Imaginad que somos los cientificos de datos de la empresa de videojuegos Tactile Entertainment. Los desarrolladores del juego Cookie Cats pretenden introducir un cambio en el juego para aumentar la retencion de los jugadores. En cierto nivel del juego los jugadores se encuentran una puerta que les obliga a esperar o a pagar la app. Actualmente la puerta se encuentra en nivel 30 y se pretende pasar al nivel 40, para comprobar la retencion a 1 y 7 dias. Antes de realizar el cambio definitivo en el juego se raliza un test AB.\n",
    "\n",
    "Los datos estan alojados en `data/cookie_cats.csv`. Nuestro grupo de control sera la version actual `gate_30` y el grupo de tratamiento sera la version `gate_40`. Debemos realizar el test para 1 dia de retencion `retention_1` y para 7 dias `retention_7`."
   ]
  },
  {
   "cell_type": "code",
   "execution_count": 1,
   "id": "ac3b2f52",
   "metadata": {},
   "outputs": [],
   "source": [
    "# librerias\n",
    "\n",
    "import pandas as pd\n",
    "import numpy as np\n",
    "\n",
    "from statsmodels.stats.proportion import proportions_ztest, proportion_confint\n",
    "from scipy.stats import norm, sem\n",
    "\n",
    "import pylab as plt\n",
    "\n",
    "\n",
    "import warnings\n",
    "warnings.simplefilter('ignore')\n",
    "\n",
    "import pylab as plt\n",
    "plt.rcParams['figure.figsize']=(15, 8)\n",
    "\n",
    "from scipy.stats import bernoulli, beta  "
   ]
  },
  {
   "cell_type": "code",
   "execution_count": 2,
   "id": "8bf45352",
   "metadata": {},
   "outputs": [],
   "source": [
    "cookie_cats = pd.read_csv('data/cookie_cats.csv')"
   ]
  },
  {
   "cell_type": "code",
   "execution_count": 3,
   "id": "e4f9ff62",
   "metadata": {},
   "outputs": [
    {
     "data": {
      "text/plain": [
       "(90189, 5)"
      ]
     },
     "execution_count": 3,
     "metadata": {},
     "output_type": "execute_result"
    }
   ],
   "source": [
    "cookie_cats.shape"
   ]
  },
  {
   "cell_type": "code",
   "execution_count": 4,
   "id": "b07a5245",
   "metadata": {},
   "outputs": [
    {
     "data": {
      "text/html": [
       "<div>\n",
       "<style scoped>\n",
       "    .dataframe tbody tr th:only-of-type {\n",
       "        vertical-align: middle;\n",
       "    }\n",
       "\n",
       "    .dataframe tbody tr th {\n",
       "        vertical-align: top;\n",
       "    }\n",
       "\n",
       "    .dataframe thead th {\n",
       "        text-align: right;\n",
       "    }\n",
       "</style>\n",
       "<table border=\"1\" class=\"dataframe\">\n",
       "  <thead>\n",
       "    <tr style=\"text-align: right;\">\n",
       "      <th></th>\n",
       "      <th>userid</th>\n",
       "      <th>version</th>\n",
       "      <th>sum_gamerounds</th>\n",
       "      <th>retention_1</th>\n",
       "      <th>retention_7</th>\n",
       "    </tr>\n",
       "  </thead>\n",
       "  <tbody>\n",
       "    <tr>\n",
       "      <th>0</th>\n",
       "      <td>116</td>\n",
       "      <td>gate_30</td>\n",
       "      <td>3</td>\n",
       "      <td>False</td>\n",
       "      <td>False</td>\n",
       "    </tr>\n",
       "    <tr>\n",
       "      <th>1</th>\n",
       "      <td>337</td>\n",
       "      <td>gate_30</td>\n",
       "      <td>38</td>\n",
       "      <td>True</td>\n",
       "      <td>False</td>\n",
       "    </tr>\n",
       "    <tr>\n",
       "      <th>2</th>\n",
       "      <td>377</td>\n",
       "      <td>gate_40</td>\n",
       "      <td>165</td>\n",
       "      <td>True</td>\n",
       "      <td>False</td>\n",
       "    </tr>\n",
       "    <tr>\n",
       "      <th>3</th>\n",
       "      <td>483</td>\n",
       "      <td>gate_40</td>\n",
       "      <td>1</td>\n",
       "      <td>False</td>\n",
       "      <td>False</td>\n",
       "    </tr>\n",
       "    <tr>\n",
       "      <th>4</th>\n",
       "      <td>488</td>\n",
       "      <td>gate_40</td>\n",
       "      <td>179</td>\n",
       "      <td>True</td>\n",
       "      <td>True</td>\n",
       "    </tr>\n",
       "    <tr>\n",
       "      <th>5</th>\n",
       "      <td>540</td>\n",
       "      <td>gate_40</td>\n",
       "      <td>187</td>\n",
       "      <td>True</td>\n",
       "      <td>True</td>\n",
       "    </tr>\n",
       "    <tr>\n",
       "      <th>6</th>\n",
       "      <td>1066</td>\n",
       "      <td>gate_30</td>\n",
       "      <td>0</td>\n",
       "      <td>False</td>\n",
       "      <td>False</td>\n",
       "    </tr>\n",
       "    <tr>\n",
       "      <th>7</th>\n",
       "      <td>1444</td>\n",
       "      <td>gate_40</td>\n",
       "      <td>2</td>\n",
       "      <td>False</td>\n",
       "      <td>False</td>\n",
       "    </tr>\n",
       "    <tr>\n",
       "      <th>8</th>\n",
       "      <td>1574</td>\n",
       "      <td>gate_40</td>\n",
       "      <td>108</td>\n",
       "      <td>True</td>\n",
       "      <td>True</td>\n",
       "    </tr>\n",
       "    <tr>\n",
       "      <th>9</th>\n",
       "      <td>1587</td>\n",
       "      <td>gate_40</td>\n",
       "      <td>153</td>\n",
       "      <td>True</td>\n",
       "      <td>False</td>\n",
       "    </tr>\n",
       "  </tbody>\n",
       "</table>\n",
       "</div>"
      ],
      "text/plain": [
       "   userid  version  sum_gamerounds  retention_1  retention_7\n",
       "0     116  gate_30               3        False        False\n",
       "1     337  gate_30              38         True        False\n",
       "2     377  gate_40             165         True        False\n",
       "3     483  gate_40               1        False        False\n",
       "4     488  gate_40             179         True         True\n",
       "5     540  gate_40             187         True         True\n",
       "6    1066  gate_30               0        False        False\n",
       "7    1444  gate_40               2        False        False\n",
       "8    1574  gate_40             108         True         True\n",
       "9    1587  gate_40             153         True        False"
      ]
     },
     "execution_count": 4,
     "metadata": {},
     "output_type": "execute_result"
    }
   ],
   "source": [
    "cookie_cats.head(10)"
   ]
  },
  {
   "cell_type": "code",
   "execution_count": 5,
   "id": "03e44758",
   "metadata": {},
   "outputs": [
    {
     "name": "stdout",
     "output_type": "stream",
     "text": [
      "        userid  version  sum_gamerounds  retention_1  retention_7\n",
      "0          116  gate_30               3            0            0\n",
      "1          337  gate_30              38            1            0\n",
      "2          377  gate_40             165            1            0\n",
      "3          483  gate_40               1            0            0\n",
      "4          488  gate_40             179            1            1\n",
      "...        ...      ...             ...          ...          ...\n",
      "90184  9999441  gate_40              97            1            0\n",
      "90185  9999479  gate_40              30            0            0\n",
      "90186  9999710  gate_30              28            1            0\n",
      "90187  9999768  gate_40              51            1            0\n",
      "90188  9999861  gate_40              16            0            0\n",
      "\n",
      "[90189 rows x 5 columns]\n"
     ]
    }
   ],
   "source": [
    "cookie_cats['retention_1'] = cookie_cats['retention_1'].replace({True: 1, False: 0})\n",
    "cookie_cats['retention_7'] = cookie_cats['retention_7'].replace({True: 1, False: 0})\n",
    "\n",
    "print(cookie_cats)"
   ]
  },
  {
   "cell_type": "code",
   "execution_count": 8,
   "id": "94436c5a",
   "metadata": {},
   "outputs": [
    {
     "name": "stdout",
     "output_type": "stream",
     "text": [
      "gate_40    45489\n",
      "gate_30    44700\n",
      "Name: version, dtype: int64\n"
     ]
    }
   ],
   "source": [
    "version_count = cookie_cats['version'].value_counts()\n",
    "print(version_count)"
   ]
  },
  {
   "cell_type": "code",
   "execution_count": 11,
   "id": "63291e88",
   "metadata": {},
   "outputs": [
    {
     "name": "stdout",
     "output_type": "stream",
     "text": [
      "El total de 1 en la columna retention_1 cuando la columna version es igual a gate_30 es: 20034\n"
     ]
    }
   ],
   "source": [
    "gate_30_retention_1 = cookie_cats[(cookie_cats['version'] == 'gate_30') & (cookie_cats['retention_1'] == 1)]\n",
    "\n",
    "total_retention_1 = len(gate_30_retention_1)\n",
    "\n",
    "print('El total de 1 en la columna retention_1 cuando la columna version es igual a gate_30 es:', total_retention_1)\n"
   ]
  },
  {
   "cell_type": "code",
   "execution_count": 13,
   "id": "d69c77a5",
   "metadata": {},
   "outputs": [
    {
     "name": "stdout",
     "output_type": "stream",
     "text": [
      "El total de 1 en la columna retention_1 cuando la columna version es igual a gate_40 es: 20119\n"
     ]
    }
   ],
   "source": [
    "gate_40_retention_1 = cookie_cats[(cookie_cats['version'] == 'gate_40') & (cookie_cats['retention_1'] == 1)]\n",
    "\n",
    "total_retention_1 = len(gate_40_retention_1)\n",
    "\n",
    "print('El total de 1 en la columna retention_1 cuando la columna version es igual a gate_40 es:', total_retention_1)"
   ]
  },
  {
   "cell_type": "code",
   "execution_count": 25,
   "id": "ec8f599f",
   "metadata": {},
   "outputs": [
    {
     "data": {
      "text/plain": [
       "'Tasas conversion: Control: 0.4481879194630872, Test: 0.44228274967574577'"
      ]
     },
     "execution_count": 25,
     "metadata": {},
     "output_type": "execute_result"
    }
   ],
   "source": [
    "# AB TESTING PARA RETENCIÓN A 1 DÍA\n",
    "personas_ctrl, pers_conv_ctrl = 44700, 20034    \n",
    "\n",
    "personas_test, convs_test = 45489, 20119 \n",
    "\n",
    "\n",
    "CR_ctrl = pers_conv_ctrl/personas_ctrl\n",
    "CR_test = convs_test/personas_test\n",
    "\n",
    "f'Tasas conversion: Control: {CR_ctrl}, Test: {CR_test}'"
   ]
  },
  {
   "cell_type": "code",
   "execution_count": 26,
   "id": "3f0199e6",
   "metadata": {},
   "outputs": [],
   "source": [
    "a_C, b_C = pers_conv_ctrl+1, personas_ctrl-pers_conv_ctrl+1   # aciertos, fallos\n",
    "a_T, b_T = convs_test+1, personas_test-convs_test+1\n",
    "\n",
    "\n",
    "beta_control = beta(a_C, b_C)\n",
    "beta_test = beta(a_T, b_T)"
   ]
  },
  {
   "cell_type": "code",
   "execution_count": 27,
   "id": "15a1aa81",
   "metadata": {},
   "outputs": [
    {
     "data": {
      "text/plain": [
       "(0.44819023757326293, 0.44228528719966587)"
      ]
     },
     "execution_count": 27,
     "metadata": {},
     "output_type": "execute_result"
    }
   ],
   "source": [
    "beta_control.mean(), beta_test.mean()"
   ]
  },
  {
   "cell_type": "code",
   "execution_count": 30,
   "id": "275ec731",
   "metadata": {},
   "outputs": [],
   "source": [
    "x=np.linspace(0.42, 0.46, 1000)\n",
    "\n",
    "def plot(betas, nombres):\n",
    "    \n",
    "    for bet, nom in zip(betas, nombres):\n",
    "        \n",
    "        y=bet.pdf(x)\n",
    "        y_media=bet.mean()\n",
    "        y_std=bet.std()\n",
    "        \n",
    "        plt.plot(x, y, label='{}, tasa de conv: {:.6f} $\\pm$ {:.10f}'.format(nom, y_media, y_std))\n",
    "        plt.yticks([])\n",
    "        \n",
    "    plt.legend()\n",
    "    plt.show();"
   ]
  },
  {
   "cell_type": "code",
   "execution_count": 31,
   "id": "0de3083d",
   "metadata": {},
   "outputs": [
    {
     "data": {
      "image/png": "[encoded data removed]",
      "text/plain": [
       "<Figure size 1500x800 with 1 Axes>"
      ]
     },
     "metadata": {},
     "output_type": "display_data"
    }
   ],
   "source": [
    "plot([beta_control, beta_test], ['Control', 'Testeo'])"
   ]
  },
  {
   "cell_type": "code",
   "execution_count": 32,
   "id": "2fada25c",
   "metadata": {},
   "outputs": [
    {
     "data": {
      "text/plain": [
       "-0.013175098158249857"
      ]
     },
     "execution_count": 32,
     "metadata": {},
     "output_type": "execute_result"
    }
   ],
   "source": [
    "salto = (beta_test.mean() - beta_control.mean())/beta_control.mean()\n",
    "\n",
    "salto"
   ]
  },
  {
   "cell_type": "code",
   "execution_count": 35,
   "id": "1c79a3d0",
   "metadata": {},
   "outputs": [
    {
     "data": {
      "text/plain": [
       "0.9125454775856419"
      ]
     },
     "execution_count": 35,
     "metadata": {},
     "output_type": "execute_result"
    }
   ],
   "source": [
    "prob = 1 - beta_control.cdf(0.445)\n",
    "\n",
    "prob"
   ]
  },
  {
   "cell_type": "code",
   "execution_count": null,
   "id": "2ecfac27",
   "metadata": {},
   "outputs": [],
   "source": [
    "# AB TESTING PARA RETENCIÓN A 7 DÍAS"
   ]
  },
  {
   "cell_type": "code",
   "execution_count": 36,
   "id": "edf1a3fc",
   "metadata": {},
   "outputs": [
    {
     "name": "stdout",
     "output_type": "stream",
     "text": [
      "El total de 1 en la columna retention_7 cuando la columna version es igual a gate_30 es: 8502\n"
     ]
    }
   ],
   "source": [
    "gate_30_retention_7 = cookie_cats[(cookie_cats['version'] == 'gate_30') & (cookie_cats['retention_7'] == 1)]\n",
    "\n",
    "total_retention_7 = len(gate_30_retention_7)\n",
    "\n",
    "print('El total de 1 en la columna retention_7 cuando la columna version es igual a gate_30 es:', total_retention_7)\n"
   ]
  },
  {
   "cell_type": "code",
   "execution_count": 37,
   "id": "1fe3a5e8",
   "metadata": {},
   "outputs": [
    {
     "name": "stdout",
     "output_type": "stream",
     "text": [
      "El total de 1 en la columna retention_7 cuando la columna version es igual a gate_40 es: 8279\n"
     ]
    }
   ],
   "source": [
    "gate_40_retention_7 = cookie_cats[(cookie_cats['version'] == 'gate_40') & (cookie_cats['retention_7'] == 1)]\n",
    "\n",
    "total_retention_7 = len(gate_40_retention_7)\n",
    "\n",
    "print('El total de 1 en la columna retention_7 cuando la columna version es igual a gate_40 es:', total_retention_7)"
   ]
  },
  {
   "cell_type": "code",
   "execution_count": 38,
   "id": "a6e243c7",
   "metadata": {},
   "outputs": [
    {
     "data": {
      "text/plain": [
       "'Tasas conversion: Control: 0.19020134228187918, Test: 0.18200004396667327'"
      ]
     },
     "execution_count": 38,
     "metadata": {},
     "output_type": "execute_result"
    }
   ],
   "source": [
    "personas_ctrl, pers_conv_ctrl = 44700, 8502    \n",
    "\n",
    "personas_test, convs_test = 45489, 8279 \n",
    "\n",
    "\n",
    "CR_ctrl = pers_conv_ctrl/personas_ctrl\n",
    "CR_test = convs_test/personas_test\n",
    "\n",
    "f'Tasas conversion: Control: {CR_ctrl}, Test: {CR_test}'"
   ]
  },
  {
   "cell_type": "code",
   "execution_count": 40,
   "id": "d2be6633",
   "metadata": {},
   "outputs": [],
   "source": [
    "a_C, b_C = pers_conv_ctrl+1, personas_ctrl-pers_conv_ctrl+1   # aciertos, fallos\n",
    "a_T, b_T = convs_test+1, personas_test-convs_test+1\n",
    "\n",
    "\n",
    "beta_control = beta(a_C, b_C)\n",
    "beta_test = beta(a_T, b_T)"
   ]
  },
  {
   "cell_type": "code",
   "execution_count": 41,
   "id": "7d7d0181",
   "metadata": {},
   "outputs": [
    {
     "data": {
      "text/plain": [
       "(0.19021520289919913, 0.18201402475214878)"
      ]
     },
     "execution_count": 41,
     "metadata": {},
     "output_type": "execute_result"
    }
   ],
   "source": [
    "beta_control.mean(), beta_test.mean()"
   ]
  },
  {
   "cell_type": "code",
   "execution_count": 42,
   "id": "7fe515c2",
   "metadata": {},
   "outputs": [],
   "source": [
    "x=np.linspace(0.17, 0.2, 1000)\n",
    "\n",
    "def plot(betas, nombres):\n",
    "    \n",
    "    for bet, nom in zip(betas, nombres):\n",
    "        \n",
    "        y=bet.pdf(x)\n",
    "        y_media=bet.mean()\n",
    "        y_std=bet.std()\n",
    "        \n",
    "        plt.plot(x, y, label='{}, tasa de conv: {:.6f} $\\pm$ {:.10f}'.format(nom, y_media, y_std))\n",
    "        plt.yticks([])\n",
    "        \n",
    "    plt.legend()\n",
    "    plt.show();\n"
   ]
  },
  {
   "cell_type": "code",
   "execution_count": 43,
   "id": "f2e6147a",
   "metadata": {},
   "outputs": [
    {
     "data": {
      "image/png": "[encoded data removed]",
      "text/plain": [
       "<Figure size 1500x800 with 1 Axes>"
      ]
     },
     "metadata": {},
     "output_type": "display_data"
    }
   ],
   "source": [
    "plot([beta_control, beta_test], ['Control', 'Testeo']);\n",
    "\n"
   ]
  },
  {
   "cell_type": "code",
   "execution_count": 44,
   "id": "38f422cb",
   "metadata": {},
   "outputs": [
    {
     "data": {
      "text/plain": [
       "0.9887346805864391"
      ]
     },
     "execution_count": 44,
     "metadata": {},
     "output_type": "execute_result"
    }
   ],
   "source": [
    "salto = (beta_test.mean() - beta_control.mean())/beta_control.mean()\n",
    "\n",
    "prob = 1 - beta_control.cdf(0.186)\n",
    "\n",
    "prob\n"
   ]
  },
  {
   "cell_type": "code",
   "execution_count": 4,
   "id": "5b90c429",
   "metadata": {},
   "outputs": [],
   "source": [
    "# testeo para retention_1\n"
   ]
  },
  {
   "cell_type": "code",
   "execution_count": 5,
   "id": "a048a711",
   "metadata": {},
   "outputs": [],
   "source": [
    "# testeo para retention_7\n",
    "\n"
   ]
  },
  {
   "cell_type": "code",
   "execution_count": null,
   "id": "cooked-magnet",
   "metadata": {},
   "outputs": [],
   "source": [
    "# conclusiones\n",
    "# Explica detalladamente las conclusiones obtenidas de. tu testeo."
   ]
  }
 ],
 "metadata": {
  "finalized": {
   "timestamp": 1642857010293,
   "trusted": true
  },
  "kernelspec": {
   "display_name": "Python 3 (ipykernel)",
   "language": "python",
   "name": "python3"
  },
  "language_info": {
   "codemirror_mode": {
    "name": "ipython",
    "version": 3
   },
   "file_extension": ".py",
   "mimetype": "text/x-python",
   "name": "python",
   "nbconvert_exporter": "python",
   "pygments_lexer": "ipython3",
   "version": "3.9.13"
  },
  "toc": {
   "base_numbering": 1,
   "nav_menu": {},
   "number_sections": true,
   "sideBar": true,
   "skip_h1_title": false,
   "title_cell": "Table of Contents",
   "title_sidebar": "Contents",
   "toc_cell": true,
   "toc_position": {},
   "toc_section_display": true,
   "toc_window_display": false
  },
  "varInspector": {
   "cols": {
    "lenName": 16,
    "lenType": 16,
    "lenVar": 40
   },
   "kernels_config": {
    "python": {
     "delete_cmd_postfix": "",
     "delete_cmd_prefix": "del ",
     "library": "var_list.py",
     "varRefreshCmd": "print(var_dic_list())"
    },
    "r": {
     "delete_cmd_postfix": ") ",
     "delete_cmd_prefix": "rm(",
     "library": "var_list.r",
     "varRefreshCmd": "cat(var_dic_list()) "
    }
   },
   "types_to_exclude": [
    "module",
    "function",
    "builtin_function_or_method",
    "instance",
    "_Feature"
   ],
   "window_display": false
  }
 },
 "nbformat": 4,
 "nbformat_minor": 5
}
